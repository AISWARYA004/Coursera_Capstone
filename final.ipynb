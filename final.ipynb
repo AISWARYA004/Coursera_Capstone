{
 "cells": [
  {
   "cell_type": "markdown",
   "metadata": {
    "collapsed": true
   },
   "source": [
    "# Capstone Project - The Battle of Neighborhoods (Week 1)\n",
    "\n",
    "## The Diversity of Restaurants in Cities: St. Petersburg, Toronto, Berlin and Paris¶\n",
    "\n",
    "### 2. Data\n",
    "\n",
    "\n",
    "There are several types of data, which will be useful for solving the research problem:\n",
    "\n",
    "number of restaurants in each city and types of these restaurants;\n",
    "number of local population and tourists;\n",
    "other economic and cultural indexes.\n",
    "Following data sources will be needed to extract/generate the required information:\n",
    "\n",
    "number of restaurants and their type will be obtained using Foursquare API;\n",
    "coordinates of cities and restaurants will be obtained using GeoPy;\n",
    "statistic data from Wikipedia."
   ]
  },
  {
   "cell_type": "code",
   "execution_count": null,
   "metadata": {},
   "outputs": [],
   "source": []
  }
 ],
 "metadata": {
  "kernelspec": {
   "display_name": "Python 3.5",
   "language": "python",
   "name": "python3"
  },
  "language_info": {
   "codemirror_mode": {
    "name": "ipython",
    "version": 3
   },
   "file_extension": ".py",
   "mimetype": "text/x-python",
   "name": "python",
   "nbconvert_exporter": "python",
   "pygments_lexer": "ipython3",
   "version": "3.5.5"
  }
 },
 "nbformat": 4,
 "nbformat_minor": 1
}
